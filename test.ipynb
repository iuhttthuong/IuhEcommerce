{
 "cells": [
  {
   "cell_type": "code",
   "execution_count": 1,
   "id": "47615a84",
   "metadata": {},
   "outputs": [
    {
     "name": "stdout",
     "output_type": "stream",
     "text": [
      "tracking_info.amplitude.is_top_brand: False\n"
     ]
    }
   ],
   "source": [
    "import sys\n",
    "\n",
    "import json\n",
    "\n",
    "from datetime import datetime\n",
    "\n",
    "\n",
    "\n",
    "# Read the JSON file\n",
    "with open(\"data/product_data_info_proper.json\", \"r\", encoding=\"utf-8\") as f:\n",
    "    data = json.load(f)\n",
    "\n",
    "# Convert the JSON data to a list of tuples\n",
    "data_list = []\n",
    "\n",
    "def find_brand_fields(obj, path=\"\"):\n",
    "    if isinstance(obj, dict):\n",
    "        for k, v in obj.items():\n",
    "            if \"brand\" in k.lower():\n",
    "                print(f\"{path + '.' if path else ''}{k}: {v}\")\n",
    "            find_brand_fields(v, path + \".\" + k if path else k)\n",
    "    elif isinstance(obj, list):\n",
    "        for i, v in enumerate(obj):\n",
    "            find_brand_fields(v, f\"{path}[{i}]\")\n",
    "\n",
    "# Gọi hàm với dữ liệu JSON\n",
    "find_brand_fields(data[0])  # hoặc data nếu chỉ có 1 object\n",
    "\n"
   ]
  },
  {
   "cell_type": "code",
   "execution_count": 4,
   "id": "f03aad96",
   "metadata": {},
   "outputs": [
    {
     "data": {
      "text/plain": [
       "'evoucher'"
      ]
     },
     "execution_count": 4,
     "metadata": {},
     "output_type": "execute_result"
    }
   ],
   "source": [
    "data[999]['inventory']['product_virtual_type']"
   ]
  },
  {
   "cell_type": "code",
   "execution_count": null,
   "id": "1b8e5a73",
   "metadata": {},
   "outputs": [],
   "source": []
  },
  {
   "cell_type": "code",
   "execution_count": null,
   "id": "462ddee5",
   "metadata": {},
   "outputs": [],
   "source": [
    "try:\n",
    "    with open(\"data/product_data_test_merge.json\", \"r\", encoding=\"utf-8\") as f:\n",
    "        data_brand = json.load(f)\n",
    "\n",
    "except Exception as e:\n",
    "    error_log.append(f\"Error reading brand data: {e}\")\n",
    "    data_brand = []"
   ]
  },
  {
   "cell_type": "code",
   "execution_count": 13,
   "id": "87cc6b55",
   "metadata": {},
   "outputs": [
    {
     "data": {
      "text/plain": [
       "[{'name': 'Thời gian bảo hành', 'value': '7 Ngày'},\n",
       " {'name': 'Hình thức bảo hành', 'value': 'Điện tử'},\n",
       " {'name': 'Nơi bảo hành', 'value': 'Bảo hành bởi nhà bán hàng thông qua Tiki'},\n",
       " {'name': 'Hướng dẫn bảo hành',\n",
       "  'value': 'Xem chi tiết',\n",
       "  'url': 'https://hotro.tiki.vn/s/article/chinh-sach-bao-hanh-tai-tiki-nhu-the-nao'}]"
      ]
     },
     "execution_count": 13,
     "metadata": {},
     "output_type": "execute_result"
    }
   ],
   "source": [
    "data_brand[0]['warranty_info']"
   ]
  },
  {
   "cell_type": "code",
   "execution_count": 34,
   "id": "de5b0f4c",
   "metadata": {},
   "outputs": [
    {
     "name": "stdout",
     "output_type": "stream",
     "text": [
      "URL trích xuất được: https://hotro.tiki.vn/s/article/chinh-sach-bao-hanh-tai-tiki-nhu-the-nao\n"
     ]
    }
   ],
   "source": [
    "data = [{'name': 'Thời gian bảo hành', 'value': '7 Ngày'},\n",
    "        {'name': 'Hình thức bảo hành', 'value': 'Điện tử'},\n",
    "        {'name': 'Nơi bảo hành', 'value': 'Bảo hành bởi nhà bán hàng thông qua Tiki'},\n",
    "        {'name': 'Hướng dẫn bảo hành',\n",
    "         'value': 'Xem chi tiết',\n",
    "         'url': 'https://hotro.tiki.vn/s/article/chinh-sach-bao-hanh-tai-tiki-nhu-the-nao'}]\n",
    "\n",
    "# Hàm trích xuất URL\n",
    "def extract_url(items):\n",
    "    for item in items:\n",
    "        if 'url' in item and item['url']:  # Kiểm tra nếu có key 'url' và giá trị không rỗng\n",
    "            return item['url']\n",
    "    return None  # Trả về None nếu không tìm thấy URL\n",
    "\n",
    "# Gọi hàm và in kết quả\n",
    "url = extract_url(data)\n",
    "if url:\n",
    "    print(\"URL trích xuất được:\", url)\n",
    "else:\n",
    "    print(\"Không tìm thấy URL\")"
   ]
  },
  {
   "cell_type": "code",
   "execution_count": 32,
   "id": "ec2d0fea",
   "metadata": {},
   "outputs": [
    {
     "name": "stdout",
     "output_type": "stream",
     "text": [
      "7 Ngày\n"
     ]
    }
   ],
   "source": [
    "def get_value_by_name(items, target_name):\n",
    "    for item in items:\n",
    "        if item[\"name\"] == target_name:\n",
    "            return item.get(\"value\")\n",
    "    return None\n",
    "\n",
    "# Ví dụ: Lấy \"Thời gian bảo hành\"\n",
    "warranty_duration = get_value_by_name(data_brand[0]['warranty_info'], \"Thời gian bảo hành\")\n",
    "print(warranty_duration)  # Output: 7 Ngày"
   ]
  },
  {
   "cell_type": "code",
   "execution_count": 42,
   "id": "276dc466",
   "metadata": {},
   "outputs": [
    {
     "name": "stdout",
     "output_type": "stream",
     "text": [
      "['Được đổi ý (sản phẩm phải còn nguyên hộp, tem, phụ kiện, chưa kích hoạt bảo hành, không áp dụng đơn hàng trả góp), hoặc', 'Sản phẩm không đúng cam kết (lỗi kỹ thuật, giao sai/thiếu, bể vỡ…)']\n"
     ]
    }
   ],
   "source": [
    "data = {\n",
    "    'body': [{\n",
    "        'label': '',\n",
    "        'content': [\n",
    "            'Được đổi ý (sản phẩm phải còn nguyên hộp, tem, phụ kiện, chưa kích hoạt bảo hành, không áp dụng đơn hàng trả góp), hoặc',\n",
    "            'Sản phẩm không đúng cam kết (lỗi kỹ thuật, giao sai/thiếu, bể vỡ…)'\n",
    "        ]\n",
    "    }],\n",
    "    'cta': {\n",
    "        'link': 'https://hotro.tiki.vn/s/article/chinh-sach-doi-tra-san-pham',\n",
    "        'text_button': 'Tìm hiểu thêm'\n",
    "    },\n",
    "    'title': 'Đổi trả miễn phí trong 30 ngày'\n",
    "}\n",
    "\n",
    "# Trích xuất content\n",
    "contents = (lambda d: sum([b.get('content', []) for b in d.get('body', [])], []))(data_brand[200]['return_policy'])\n",
    "print(contents)  # Output: ['Được đổi ý (sản phẩm phải còn nguyên hộp, tem, phụ kiện, chưa kích hoạt bảo hành, không áp dụng đơn hàng trả góp), hoặc', 'Sản phẩm không đúng cam kết (lỗi kỹ thuật, giao sai/thiếu, bể vỡ…)']\n"
   ]
  },
  {
   "cell_type": "code",
   "execution_count": null,
   "id": "5f51ac5a",
   "metadata": {},
   "outputs": [
    {
     "data": {
      "text/plain": [
       "{'body': [{'label': '',\n",
       "   'content': ['Được đổi ý (sản phẩm phải còn nguyên hộp, tem, phụ kiện, chưa kích hoạt bảo hành, không áp dụng đơn hàng trả góp), hoặc',\n",
       "    'Sản phẩm không đúng cam kết (lỗi kỹ thuật, giao sai/thiếu, bể vỡ…)']}],\n",
       " 'cta': {'link': 'https://hotro.tiki.vn/s/article/chinh-sach-doi-tra-san-pham',\n",
       "  'text_button': 'Tìm hiểu thêm'},\n",
       " 'title': 'Đổi trả miễn phí trong 30 ngày'}"
      ]
     },
     "execution_count": 35,
     "metadata": {},
     "output_type": "execute_result"
    }
   ],
   "source": [
    "data_brand[0]['return_policy']"
   ]
  },
  {
   "cell_type": "code",
   "execution_count": null,
   "id": "5f8a1a79",
   "metadata": {},
   "outputs": [
    {
     "ename": "NameError",
     "evalue": "name 'data_product' is not defined",
     "output_type": "error",
     "traceback": [
      "\u001b[31m---------------------------------------------------------------------------\u001b[39m",
      "\u001b[31mNameError\u001b[39m                                 Traceback (most recent call last)",
      "\u001b[36mCell\u001b[39m\u001b[36m \u001b[39m\u001b[32mIn[95]\u001b[39m\u001b[32m, line 31\u001b[39m\n\u001b[32m     28\u001b[39m         \u001b[38;5;28mprint\u001b[39m(\u001b[33mf\u001b[39m\u001b[33m\"\u001b[39m\u001b[38;5;132;01m{\u001b[39;00midx\u001b[38;5;132;01m}\u001b[39;00m\u001b[33m. \u001b[39m\u001b[38;5;132;01m{\u001b[39;00m\u001b[38;5;28mtype\u001b[39m(value).\u001b[34m__name__\u001b[39m\u001b[38;5;132;01m}\u001b[39;00m\u001b[33m\"\u001b[39m)\n\u001b[32m     30\u001b[39m \u001b[38;5;66;03m# Gọi hàm\u001b[39;00m\n\u001b[32m---> \u001b[39m\u001b[32m31\u001b[39m print_types(\u001b[43mdata_product\u001b[49m, data_brand, data_crawl, i=\u001b[32m0\u001b[39m)  \u001b[38;5;66;03m# Thay i bằng index bạn muốn kiểm tra\u001b[39;00m\n",
      "\u001b[31mNameError\u001b[39m: name 'data_product' is not defined"
     ]
    }
   ],
   "source": []
  }
 ],
 "metadata": {
  "kernelspec": {
   "display_name": "Python 3",
   "language": "python",
   "name": "python3"
  },
  "language_info": {
   "codemirror_mode": {
    "name": "ipython",
    "version": 3
   },
   "file_extension": ".py",
   "mimetype": "text/x-python",
   "name": "python",
   "nbconvert_exporter": "python",
   "pygments_lexer": "ipython3",
   "version": "3.undefined.undefined"
  }
 },
 "nbformat": 4,
 "nbformat_minor": 5
}
