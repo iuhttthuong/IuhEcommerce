{
 "cells": [
  {
   "cell_type": "code",
   "execution_count": 2,
   "id": "f7dd92b0",
   "metadata": {},
   "outputs": [],
   "source": [
    "import sys\n",
    "import os\n",
    "\n",
    "# Thêm thư mục gốc (project/) vào sys.path\n",
    "# Nếu __file__ không có (trong notebook), thay bằng:\n",
    "sys.path.append(os.path.abspath(\"..\"))\n",
    "\n",
    "from services.products import ProductServices\n"
   ]
  },
  {
   "cell_type": "code",
   "execution_count": 3,
   "id": "5a8799fa",
   "metadata": {},
   "outputs": [],
   "source": [
    "from fastapi import APIRouter, HTTPException\n",
    "from pydantic import BaseModel\n",
    "import os, json, dotenv\n",
    "from autogen import AssistantAgent, ConversableAgent\n",
    "import uuid\n",
    "from db import Session\n",
    "from models.fqas import FQA\n",
    "from repositories.message import MessageRepository\n",
    "from controllers.search import search\n",
    "import traceback\n",
    "from models.message import MessageModel, CreateMessagePayload\n",
    "from autogen import register_function\n",
    "from env import env"
   ]
  },
  {
   "cell_type": "code",
   "execution_count": 4,
   "id": "28dde101",
   "metadata": {},
   "outputs": [],
   "source": [
    "\n",
    "config_list = [{\n",
    "    \"model\": \"gemini-2.0-flash\",\n",
    "    \"api_key\": env.GEMINI_API_KEY,\n",
    "    \"api_type\": \"google\"\n",
    "}]\n",
    "\n",
    "class ChatbotRequest(BaseModel):\n",
    "    chat_id: int\n",
    "    message: str"
   ]
  },
  {
   "cell_type": "code",
   "execution_count": 5,
   "id": "ecfae747",
   "metadata": {},
   "outputs": [],
   "source": [
    "Manager = ConversableAgent(\n",
    "    name=\"manager\",\n",
    "    system_message=\"\"\"Bạn là một trợ lý AI thông minh làm việc cho một sàn thương mại điện tử IUH-Ecomerce\n",
    "    Bạn sẽ nhận đầu vào câu hỏi của người dùng về sàn thương mại điện tử IUH-Ecomerce\n",
    "    Nhiệm vụ của bạn là trả lời câu hỏi của người dùng một cách chính xác và đầy đủ nhất có thể\n",
    "    Nếu bạn chưa đủ thông tin trả lời, bạn hãy sử dụng các trợ lý khác để tìm kiếm thông tin\n",
    "    Hãy trả về mô tả truy vấn Qdrant dưới dạng JSON:\"\n",
    "        \"agent\": \"ProductAgent\" | \"PoliciAgent\" | \"MySelf\" | \"TransactionAgent\" ,\n",
    "        \"query\": String\n",
    "    Với Agent là tên của trợ lý mà bạn muốn sử dụng để tìm kiếm thông tin\n",
    "        Trong đó ProductAgent là trợ lý tìm kiếm thông tin sản phẩm\n",
    "        Trong đó PoliciAgent là trợ lý tìm kiếm thông tin chính sách\n",
    "        Trong đó MySelf là trợ lý tìm trả lời câu hỏi bình thường\n",
    "        Trong đó TransactionAgent là trợ lý tìm kiếm thông tin giao dịch\n",
    "\n",
    "\n",
    "        \"\"\",    \n",
    "\n",
    "        \n",
    "    llm_config={\"config_list\": config_list},\n",
    "    human_input_mode= \"NEVER\"\n",
    ")"
   ]
  },
  {
   "cell_type": "code",
   "execution_count": 14,
   "id": "2795c613",
   "metadata": {},
   "outputs": [],
   "source": [
    "async def get_product_info(query):\n",
    "    chat = await Manager.a_generate_reply(\n",
    "    messages=[{\"role\": \"user\", \"content\": query}])\n",
    "    # response= json.loads(chat)\n",
    "    return chat[\"content\"]\n",
    "\n"
   ]
  },
  {
   "cell_type": "code",
   "execution_count": 28,
   "id": "80d37944",
   "metadata": {},
   "outputs": [],
   "source": [
    "import re\n",
    "def extract_qdrant_query(response: str):\n",
    "    json_match = re.search(r'```json\\s*(\\{.*?\\})\\s*```', response, re.DOTALL) or \\\n",
    "                    re.search(r'(\\{.*?\\})', response, re.DOTALL)\n",
    "    if not json_match:\n",
    "        return {\"collection_name\": \"products\", \"payload\": \"\", \"limit\": 5}\n",
    "    try:\n",
    "        return json.loads(json_match.group(1))\n",
    "    except json.JSONDecodeError as e:\n",
    "        return {\"collection_name\": \"products\", \"payload\": \"\", \"limit\": 5}"
   ]
  },
  {
   "cell_type": "markdown",
   "id": "3b7bd3ee",
   "metadata": {},
   "source": []
  },
  {
   "cell_type": "code",
   "execution_count": 31,
   "id": "e12c4794",
   "metadata": {},
   "outputs": [
    {
     "data": {
      "text/plain": [
       "{'agent': 'PoliciAgent', 'query': 'Chính sách bảo hành của IUH-Ecommerce'}"
      ]
     },
     "execution_count": 31,
     "metadata": {},
     "output_type": "execute_result"
    }
   ],
   "source": [
    "returm = await get_product_info(\"hãy nói về chính sách bảo hành của IUH-Ecommerce\")\n",
    "returm = extract_qdrant_query(returm)\n",
    "returm"
   ]
  },
  {
   "cell_type": "code",
   "execution_count": 97,
   "id": "9ac329e7",
   "metadata": {},
   "outputs": [],
   "source": [
    "from controllers.qdrant_agent import chatbot_endpoint as product_agent\n",
    "from controllers.polici_agent import ask_chatbot as policy_agent"
   ]
  },
  {
   "cell_type": "code",
   "execution_count": 100,
   "id": "543a562d",
   "metadata": {},
   "outputs": [],
   "source": [
    "### call agent\n",
    "ChatbotReques1t = {\n",
    "    \"chat_id\": 2,\n",
    "    \"message\": \"sách nói về dao dịch \"\n",
    "}\n",
    "\n",
    "\n",
    "async def call_agent(agent, ChatbotRequest : ChatbotRequest): \n",
    "    if agent == \"ProductAgent\":\n",
    "        # Gọi hàm tìm kiếm sản phẩm\n",
    "        result = await product_agent(ChatbotRequest)\n",
    "        return result\n",
    "    elif agent == \"PoliciAgent\":\n",
    "        # Gọi hàm tìm kiếm chính sách\n",
    "        result = policy_agent(ChatbotRequest)\n",
    "        return result[\"response\"]\n",
    "    elif agent == \"MySelf\":\n",
    "        # Gọi hàm tìm kiếm thông tin cá nhân\n",
    "        result = await search(ChatbotRequest['message'])\n",
    "        return result\n",
    "    elif agent == \"TransactionAgent\":\n",
    "        # Gọi hàm tìm kiếm thông tin giao dịch\n",
    "        result = await search(ChatbotRequest['message'])\n",
    "        return result\n",
    "\n",
    "\n",
    "\n"
   ]
  },
  {
   "cell_type": "code",
   "execution_count": 101,
   "id": "072d0f6e",
   "metadata": {},
   "outputs": [
    {
     "name": "stdout",
     "output_type": "stream",
     "text": [
      "\u001b[33mUser\u001b[0m (to Assistant):\n",
      "\n",
      "Người dùng hỏi: chính sách đổi trả hàng\n",
      "\n",
      "--------------------------------------------------------------------------------\n",
      "\u001b[31m\n",
      ">>>>>>>> USING AUTO REPLY...\u001b[0m\n"
     ]
    },
    {
     "name": "stderr",
     "output_type": "stream",
     "text": [
      "/home/huong/.cache/pypoetry/virtualenvs/chatbot-k9VqB5fJ-py3.12/lib/python3.12/site-packages/autogen/agentchat/conversable_agent.py:3424: UserWarning: Function 'search' is being overridden.\n",
      "  warnings.warn(f\"Function '{tool_sig['function']['name']}' is being overridden.\", UserWarning)\n",
      "/home/huong/.cache/pypoetry/virtualenvs/chatbot-k9VqB5fJ-py3.12/lib/python3.12/site-packages/autogen/agentchat/conversable_agent.py:3322: UserWarning: Function 'search' is being overridden.\n",
      "  warnings.warn(f\"Function '{name}' is being overridden.\", UserWarning)\n"
     ]
    },
    {
     "name": "stdout",
     "output_type": "stream",
     "text": [
      "\u001b[33mAssistant\u001b[0m (to User):\n",
      "\n",
      "\u001b[32m***** Suggested tool call (call_r7ZqzflDVfgVZ6Bv9xjh6jrS): search *****\u001b[0m\n",
      "Arguments: \n",
      "{\"payload\":\"chính sách đổi trả hàng\",\"collection_name\":\"poli_embeddings\"}\n",
      "\u001b[32m***********************************************************************\u001b[0m\n",
      "\n",
      "--------------------------------------------------------------------------------\n",
      "\u001b[35m\n",
      ">>>>>>>> EXECUTING FUNCTION search...\n",
      "Call ID: call_r7ZqzflDVfgVZ6Bv9xjh6jrS\n",
      "Input arguments: {'payload': 'chính sách đổi trả hàng', 'collection_name': 'poli_embeddings'}\u001b[0m\n",
      "\u001b[33mUser\u001b[0m (to Assistant):\n",
      "\n",
      "\u001b[32m***** Response from calling tool (call_r7ZqzflDVfgVZ6Bv9xjh6jrS) *****\u001b[0m\n",
      "Đảm bảo rằng sản phẩm của quý khách đủ điều kiện theo chính sách của IUH-Ecomerce\n",
      "\u001b[32m**********************************************************************\u001b[0m\n",
      "\n",
      "--------------------------------------------------------------------------------\n",
      "\u001b[31m\n",
      ">>>>>>>> USING AUTO REPLY...\u001b[0m\n",
      "\u001b[33mAssistant\u001b[0m (to User):\n",
      "\n",
      "Chính sách đổi trả hàng của IUH-Ecomerce yêu cầu sản phẩm của quý khách phải đủ điều kiện theo quy định. Quý khách có thể thực hiện việc đổi trả trong thời gian quy định và cần tuân thủ các hướng dẫn cụ thể để đảm bảo quá trình diễn ra thuận lợi.\n",
      "\n",
      "--------------------------------------------------------------------------------\n",
      "\u001b[31m\n",
      ">>>>>>>> TERMINATING RUN (1abfd92b-3e17-4e81-8878-491963732ac7): Termination message condition on agent 'User' met\u001b[0m\n",
      "Response from assistant: Chính sách đổi trả hàng của IUH-Ecomerce yêu cầu sản phẩm của quý khách phải đủ điều kiện theo quy định. Quý khách có thể thực hiện việc đổi trả trong thời gian quy định và cần tuân thủ các hướng dẫn cụ thể để đảm bảo quá trình diễn ra thuận lợi.\n"
     ]
    },
    {
     "data": {
      "text/plain": [
       "'Chính sách đổi trả hàng của IUH-Ecomerce yêu cầu sản phẩm của quý khách phải đủ điều kiện theo quy định. Quý khách có thể thực hiện việc đổi trả trong thời gian quy định và cần tuân thủ các hướng dẫn cụ thể để đảm bảo quá trình diễn ra thuận lợi.'"
      ]
     },
     "execution_count": 101,
     "metadata": {},
     "output_type": "execute_result"
    }
   ],
   "source": [
    "## test\n",
    "response = await get_product_info(\"chinh sách đổi trả hàng\")\n",
    "class ChatbotRequest(BaseModel):\n",
    "    chat_id: int\n",
    "    message: str\n",
    "ChatbotRequest = ChatbotRequest(\n",
    "    chat_id=2,\n",
    "    message=response[\"query\"]\n",
    ")\n",
    "\n",
    "await call_agent(response[\"agent\"], ChatbotRequest)"
   ]
  },
  {
   "cell_type": "code",
   "execution_count": 102,
   "id": "6aa06ae7",
   "metadata": {},
   "outputs": [
    {
     "ename": "FastAPIError",
     "evalue": "Invalid args for response field! Hint: check that chat_id=2 message='chính sách đổi trả hàng' is a valid Pydantic field type. If you are using a return type annotation that is not a valid Pydantic field (e.g. Union[Response, dict, None]) you can disable generating the response model from the type annotation with the path operation decorator parameter response_model=None. Read more: https://fastapi.tiangolo.com/tutorial/response-model/",
     "output_type": "error",
     "traceback": [
      "\u001b[31m---------------------------------------------------------------------------\u001b[39m",
      "\u001b[31mFastAPIError\u001b[39m                              Traceback (most recent call last)",
      "\u001b[36mCell\u001b[39m\u001b[36m \u001b[39m\u001b[32mIn[102]\u001b[39m\u001b[32m, line 2\u001b[39m\n\u001b[32m      1\u001b[39m \u001b[38;5;66;03m## endpoint\u001b[39;00m\n\u001b[32m----> \u001b[39m\u001b[32m2\u001b[39m \u001b[38;5;129;43m@router\u001b[39;49m\u001b[43m.\u001b[49m\u001b[43mpost\u001b[49m\u001b[43m(\u001b[49m\u001b[33;43m\"\u001b[39;49m\u001b[33;43m/chat\u001b[39;49m\u001b[33;43m\"\u001b[39;49m\u001b[43m)\u001b[49m\n\u001b[32m      3\u001b[39m \u001b[38;5;28;43;01masync\u001b[39;49;00m\u001b[43m \u001b[49m\u001b[38;5;28;43;01mdef\u001b[39;49;00m\u001b[38;5;250;43m \u001b[39;49m\u001b[34;43mchat\u001b[39;49m\u001b[43m(\u001b[49m\u001b[43mrequest\u001b[49m\u001b[43m:\u001b[49m\u001b[43m \u001b[49m\u001b[43mChatbotRequest\u001b[49m\u001b[43m)\u001b[49m\u001b[43m:\u001b[49m\n\u001b[32m      4\u001b[39m \u001b[43m    \u001b[49m\u001b[38;5;28;43;01mtry\u001b[39;49;00m\u001b[43m:\u001b[49m\n\u001b[32m      5\u001b[39m \u001b[43m        \u001b[49m\u001b[38;5;66;43;03m# Gọi hàm tìm kiếm sản phẩm\u001b[39;49;00m\n\u001b[32m      6\u001b[39m \u001b[43m        \u001b[49m\u001b[43mresult\u001b[49m\u001b[43m \u001b[49m\u001b[43m=\u001b[49m\u001b[43m \u001b[49m\u001b[38;5;28;43;01mawait\u001b[39;49;00m\u001b[43m \u001b[49m\u001b[43mget_product_info\u001b[49m\u001b[43m(\u001b[49m\u001b[43mrequest\u001b[49m\u001b[43m.\u001b[49m\u001b[43mmessage\u001b[49m\u001b[43m)\u001b[49m\n",
      "\u001b[36mFile \u001b[39m\u001b[32m~/.cache/pypoetry/virtualenvs/chatbot-k9VqB5fJ-py3.12/lib/python3.12/site-packages/fastapi/routing.py:994\u001b[39m, in \u001b[36mAPIRouter.api_route.<locals>.decorator\u001b[39m\u001b[34m(func)\u001b[39m\n\u001b[32m    993\u001b[39m \u001b[38;5;28;01mdef\u001b[39;00m\u001b[38;5;250m \u001b[39m\u001b[34mdecorator\u001b[39m(func: DecoratedCallable) -> DecoratedCallable:\n\u001b[32m--> \u001b[39m\u001b[32m994\u001b[39m     \u001b[38;5;28;43mself\u001b[39;49m\u001b[43m.\u001b[49m\u001b[43madd_api_route\u001b[49m\u001b[43m(\u001b[49m\n\u001b[32m    995\u001b[39m \u001b[43m        \u001b[49m\u001b[43mpath\u001b[49m\u001b[43m,\u001b[49m\n\u001b[32m    996\u001b[39m \u001b[43m        \u001b[49m\u001b[43mfunc\u001b[49m\u001b[43m,\u001b[49m\n\u001b[32m    997\u001b[39m \u001b[43m        \u001b[49m\u001b[43mresponse_model\u001b[49m\u001b[43m=\u001b[49m\u001b[43mresponse_model\u001b[49m\u001b[43m,\u001b[49m\n\u001b[32m    998\u001b[39m \u001b[43m        \u001b[49m\u001b[43mstatus_code\u001b[49m\u001b[43m=\u001b[49m\u001b[43mstatus_code\u001b[49m\u001b[43m,\u001b[49m\n\u001b[32m    999\u001b[39m \u001b[43m        \u001b[49m\u001b[43mtags\u001b[49m\u001b[43m=\u001b[49m\u001b[43mtags\u001b[49m\u001b[43m,\u001b[49m\n\u001b[32m   1000\u001b[39m \u001b[43m        \u001b[49m\u001b[43mdependencies\u001b[49m\u001b[43m=\u001b[49m\u001b[43mdependencies\u001b[49m\u001b[43m,\u001b[49m\n\u001b[32m   1001\u001b[39m \u001b[43m        \u001b[49m\u001b[43msummary\u001b[49m\u001b[43m=\u001b[49m\u001b[43msummary\u001b[49m\u001b[43m,\u001b[49m\n\u001b[32m   1002\u001b[39m \u001b[43m        \u001b[49m\u001b[43mdescription\u001b[49m\u001b[43m=\u001b[49m\u001b[43mdescription\u001b[49m\u001b[43m,\u001b[49m\n\u001b[32m   1003\u001b[39m \u001b[43m        \u001b[49m\u001b[43mresponse_description\u001b[49m\u001b[43m=\u001b[49m\u001b[43mresponse_description\u001b[49m\u001b[43m,\u001b[49m\n\u001b[32m   1004\u001b[39m \u001b[43m        \u001b[49m\u001b[43mresponses\u001b[49m\u001b[43m=\u001b[49m\u001b[43mresponses\u001b[49m\u001b[43m,\u001b[49m\n\u001b[32m   1005\u001b[39m \u001b[43m        \u001b[49m\u001b[43mdeprecated\u001b[49m\u001b[43m=\u001b[49m\u001b[43mdeprecated\u001b[49m\u001b[43m,\u001b[49m\n\u001b[32m   1006\u001b[39m \u001b[43m        \u001b[49m\u001b[43mmethods\u001b[49m\u001b[43m=\u001b[49m\u001b[43mmethods\u001b[49m\u001b[43m,\u001b[49m\n\u001b[32m   1007\u001b[39m \u001b[43m        \u001b[49m\u001b[43moperation_id\u001b[49m\u001b[43m=\u001b[49m\u001b[43moperation_id\u001b[49m\u001b[43m,\u001b[49m\n\u001b[32m   1008\u001b[39m \u001b[43m        \u001b[49m\u001b[43mresponse_model_include\u001b[49m\u001b[43m=\u001b[49m\u001b[43mresponse_model_include\u001b[49m\u001b[43m,\u001b[49m\n\u001b[32m   1009\u001b[39m \u001b[43m        \u001b[49m\u001b[43mresponse_model_exclude\u001b[49m\u001b[43m=\u001b[49m\u001b[43mresponse_model_exclude\u001b[49m\u001b[43m,\u001b[49m\n\u001b[32m   1010\u001b[39m \u001b[43m        \u001b[49m\u001b[43mresponse_model_by_alias\u001b[49m\u001b[43m=\u001b[49m\u001b[43mresponse_model_by_alias\u001b[49m\u001b[43m,\u001b[49m\n\u001b[32m   1011\u001b[39m \u001b[43m        \u001b[49m\u001b[43mresponse_model_exclude_unset\u001b[49m\u001b[43m=\u001b[49m\u001b[43mresponse_model_exclude_unset\u001b[49m\u001b[43m,\u001b[49m\n\u001b[32m   1012\u001b[39m \u001b[43m        \u001b[49m\u001b[43mresponse_model_exclude_defaults\u001b[49m\u001b[43m=\u001b[49m\u001b[43mresponse_model_exclude_defaults\u001b[49m\u001b[43m,\u001b[49m\n\u001b[32m   1013\u001b[39m \u001b[43m        \u001b[49m\u001b[43mresponse_model_exclude_none\u001b[49m\u001b[43m=\u001b[49m\u001b[43mresponse_model_exclude_none\u001b[49m\u001b[43m,\u001b[49m\n\u001b[32m   1014\u001b[39m \u001b[43m        \u001b[49m\u001b[43minclude_in_schema\u001b[49m\u001b[43m=\u001b[49m\u001b[43minclude_in_schema\u001b[49m\u001b[43m,\u001b[49m\n\u001b[32m   1015\u001b[39m \u001b[43m        \u001b[49m\u001b[43mresponse_class\u001b[49m\u001b[43m=\u001b[49m\u001b[43mresponse_class\u001b[49m\u001b[43m,\u001b[49m\n\u001b[32m   1016\u001b[39m \u001b[43m        \u001b[49m\u001b[43mname\u001b[49m\u001b[43m=\u001b[49m\u001b[43mname\u001b[49m\u001b[43m,\u001b[49m\n\u001b[32m   1017\u001b[39m \u001b[43m        \u001b[49m\u001b[43mcallbacks\u001b[49m\u001b[43m=\u001b[49m\u001b[43mcallbacks\u001b[49m\u001b[43m,\u001b[49m\n\u001b[32m   1018\u001b[39m \u001b[43m        \u001b[49m\u001b[43mopenapi_extra\u001b[49m\u001b[43m=\u001b[49m\u001b[43mopenapi_extra\u001b[49m\u001b[43m,\u001b[49m\n\u001b[32m   1019\u001b[39m \u001b[43m        \u001b[49m\u001b[43mgenerate_unique_id_function\u001b[49m\u001b[43m=\u001b[49m\u001b[43mgenerate_unique_id_function\u001b[49m\u001b[43m,\u001b[49m\n\u001b[32m   1020\u001b[39m \u001b[43m    \u001b[49m\u001b[43m)\u001b[49m\n\u001b[32m   1021\u001b[39m     \u001b[38;5;28;01mreturn\u001b[39;00m func\n",
      "\u001b[36mFile \u001b[39m\u001b[32m~/.cache/pypoetry/virtualenvs/chatbot-k9VqB5fJ-py3.12/lib/python3.12/site-packages/fastapi/routing.py:933\u001b[39m, in \u001b[36mAPIRouter.add_api_route\u001b[39m\u001b[34m(self, path, endpoint, response_model, status_code, tags, dependencies, summary, description, response_description, responses, deprecated, methods, operation_id, response_model_include, response_model_exclude, response_model_by_alias, response_model_exclude_unset, response_model_exclude_defaults, response_model_exclude_none, include_in_schema, response_class, name, route_class_override, callbacks, openapi_extra, generate_unique_id_function)\u001b[39m\n\u001b[32m    929\u001b[39m     current_callbacks.extend(callbacks)\n\u001b[32m    930\u001b[39m current_generate_unique_id = get_value_or_default(\n\u001b[32m    931\u001b[39m     generate_unique_id_function, \u001b[38;5;28mself\u001b[39m.generate_unique_id_function\n\u001b[32m    932\u001b[39m )\n\u001b[32m--> \u001b[39m\u001b[32m933\u001b[39m route = \u001b[43mroute_class\u001b[49m\u001b[43m(\u001b[49m\n\u001b[32m    934\u001b[39m \u001b[43m    \u001b[49m\u001b[38;5;28;43mself\u001b[39;49m\u001b[43m.\u001b[49m\u001b[43mprefix\u001b[49m\u001b[43m \u001b[49m\u001b[43m+\u001b[49m\u001b[43m \u001b[49m\u001b[43mpath\u001b[49m\u001b[43m,\u001b[49m\n\u001b[32m    935\u001b[39m \u001b[43m    \u001b[49m\u001b[43mendpoint\u001b[49m\u001b[43m=\u001b[49m\u001b[43mendpoint\u001b[49m\u001b[43m,\u001b[49m\n\u001b[32m    936\u001b[39m \u001b[43m    \u001b[49m\u001b[43mresponse_model\u001b[49m\u001b[43m=\u001b[49m\u001b[43mresponse_model\u001b[49m\u001b[43m,\u001b[49m\n\u001b[32m    937\u001b[39m \u001b[43m    \u001b[49m\u001b[43mstatus_code\u001b[49m\u001b[43m=\u001b[49m\u001b[43mstatus_code\u001b[49m\u001b[43m,\u001b[49m\n\u001b[32m    938\u001b[39m \u001b[43m    \u001b[49m\u001b[43mtags\u001b[49m\u001b[43m=\u001b[49m\u001b[43mcurrent_tags\u001b[49m\u001b[43m,\u001b[49m\n\u001b[32m    939\u001b[39m \u001b[43m    \u001b[49m\u001b[43mdependencies\u001b[49m\u001b[43m=\u001b[49m\u001b[43mcurrent_dependencies\u001b[49m\u001b[43m,\u001b[49m\n\u001b[32m    940\u001b[39m \u001b[43m    \u001b[49m\u001b[43msummary\u001b[49m\u001b[43m=\u001b[49m\u001b[43msummary\u001b[49m\u001b[43m,\u001b[49m\n\u001b[32m    941\u001b[39m \u001b[43m    \u001b[49m\u001b[43mdescription\u001b[49m\u001b[43m=\u001b[49m\u001b[43mdescription\u001b[49m\u001b[43m,\u001b[49m\n\u001b[32m    942\u001b[39m \u001b[43m    \u001b[49m\u001b[43mresponse_description\u001b[49m\u001b[43m=\u001b[49m\u001b[43mresponse_description\u001b[49m\u001b[43m,\u001b[49m\n\u001b[32m    943\u001b[39m \u001b[43m    \u001b[49m\u001b[43mresponses\u001b[49m\u001b[43m=\u001b[49m\u001b[43mcombined_responses\u001b[49m\u001b[43m,\u001b[49m\n\u001b[32m    944\u001b[39m \u001b[43m    \u001b[49m\u001b[43mdeprecated\u001b[49m\u001b[43m=\u001b[49m\u001b[43mdeprecated\u001b[49m\u001b[43m \u001b[49m\u001b[38;5;129;43;01mor\u001b[39;49;00m\u001b[43m \u001b[49m\u001b[38;5;28;43mself\u001b[39;49m\u001b[43m.\u001b[49m\u001b[43mdeprecated\u001b[49m\u001b[43m,\u001b[49m\n\u001b[32m    945\u001b[39m \u001b[43m    \u001b[49m\u001b[43mmethods\u001b[49m\u001b[43m=\u001b[49m\u001b[43mmethods\u001b[49m\u001b[43m,\u001b[49m\n\u001b[32m    946\u001b[39m \u001b[43m    \u001b[49m\u001b[43moperation_id\u001b[49m\u001b[43m=\u001b[49m\u001b[43moperation_id\u001b[49m\u001b[43m,\u001b[49m\n\u001b[32m    947\u001b[39m \u001b[43m    \u001b[49m\u001b[43mresponse_model_include\u001b[49m\u001b[43m=\u001b[49m\u001b[43mresponse_model_include\u001b[49m\u001b[43m,\u001b[49m\n\u001b[32m    948\u001b[39m \u001b[43m    \u001b[49m\u001b[43mresponse_model_exclude\u001b[49m\u001b[43m=\u001b[49m\u001b[43mresponse_model_exclude\u001b[49m\u001b[43m,\u001b[49m\n\u001b[32m    949\u001b[39m \u001b[43m    \u001b[49m\u001b[43mresponse_model_by_alias\u001b[49m\u001b[43m=\u001b[49m\u001b[43mresponse_model_by_alias\u001b[49m\u001b[43m,\u001b[49m\n\u001b[32m    950\u001b[39m \u001b[43m    \u001b[49m\u001b[43mresponse_model_exclude_unset\u001b[49m\u001b[43m=\u001b[49m\u001b[43mresponse_model_exclude_unset\u001b[49m\u001b[43m,\u001b[49m\n\u001b[32m    951\u001b[39m \u001b[43m    \u001b[49m\u001b[43mresponse_model_exclude_defaults\u001b[49m\u001b[43m=\u001b[49m\u001b[43mresponse_model_exclude_defaults\u001b[49m\u001b[43m,\u001b[49m\n\u001b[32m    952\u001b[39m \u001b[43m    \u001b[49m\u001b[43mresponse_model_exclude_none\u001b[49m\u001b[43m=\u001b[49m\u001b[43mresponse_model_exclude_none\u001b[49m\u001b[43m,\u001b[49m\n\u001b[32m    953\u001b[39m \u001b[43m    \u001b[49m\u001b[43minclude_in_schema\u001b[49m\u001b[43m=\u001b[49m\u001b[43minclude_in_schema\u001b[49m\u001b[43m \u001b[49m\u001b[38;5;129;43;01mand\u001b[39;49;00m\u001b[43m \u001b[49m\u001b[38;5;28;43mself\u001b[39;49m\u001b[43m.\u001b[49m\u001b[43minclude_in_schema\u001b[49m\u001b[43m,\u001b[49m\n\u001b[32m    954\u001b[39m \u001b[43m    \u001b[49m\u001b[43mresponse_class\u001b[49m\u001b[43m=\u001b[49m\u001b[43mcurrent_response_class\u001b[49m\u001b[43m,\u001b[49m\n\u001b[32m    955\u001b[39m \u001b[43m    \u001b[49m\u001b[43mname\u001b[49m\u001b[43m=\u001b[49m\u001b[43mname\u001b[49m\u001b[43m,\u001b[49m\n\u001b[32m    956\u001b[39m \u001b[43m    \u001b[49m\u001b[43mdependency_overrides_provider\u001b[49m\u001b[43m=\u001b[49m\u001b[38;5;28;43mself\u001b[39;49m\u001b[43m.\u001b[49m\u001b[43mdependency_overrides_provider\u001b[49m\u001b[43m,\u001b[49m\n\u001b[32m    957\u001b[39m \u001b[43m    \u001b[49m\u001b[43mcallbacks\u001b[49m\u001b[43m=\u001b[49m\u001b[43mcurrent_callbacks\u001b[49m\u001b[43m,\u001b[49m\n\u001b[32m    958\u001b[39m \u001b[43m    \u001b[49m\u001b[43mopenapi_extra\u001b[49m\u001b[43m=\u001b[49m\u001b[43mopenapi_extra\u001b[49m\u001b[43m,\u001b[49m\n\u001b[32m    959\u001b[39m \u001b[43m    \u001b[49m\u001b[43mgenerate_unique_id_function\u001b[49m\u001b[43m=\u001b[49m\u001b[43mcurrent_generate_unique_id\u001b[49m\u001b[43m,\u001b[49m\n\u001b[32m    960\u001b[39m \u001b[43m\u001b[49m\u001b[43m)\u001b[49m\n\u001b[32m    961\u001b[39m \u001b[38;5;28mself\u001b[39m.routes.append(route)\n",
      "\u001b[36mFile \u001b[39m\u001b[32m~/.cache/pypoetry/virtualenvs/chatbot-k9VqB5fJ-py3.12/lib/python3.12/site-packages/fastapi/routing.py:554\u001b[39m, in \u001b[36mAPIRoute.__init__\u001b[39m\u001b[34m(self, path, endpoint, response_model, status_code, tags, dependencies, summary, description, response_description, responses, deprecated, name, methods, operation_id, response_model_include, response_model_exclude, response_model_by_alias, response_model_exclude_unset, response_model_exclude_defaults, response_model_exclude_none, include_in_schema, response_class, dependency_overrides_provider, callbacks, openapi_extra, generate_unique_id_function)\u001b[39m\n\u001b[32m    551\u001b[39m     \u001b[38;5;28mself\u001b[39m.response_fields = {}\n\u001b[32m    553\u001b[39m \u001b[38;5;28;01massert\u001b[39;00m \u001b[38;5;28mcallable\u001b[39m(endpoint), \u001b[33m\"\u001b[39m\u001b[33mAn endpoint must be a callable\u001b[39m\u001b[33m\"\u001b[39m\n\u001b[32m--> \u001b[39m\u001b[32m554\u001b[39m \u001b[38;5;28mself\u001b[39m.dependant = \u001b[43mget_dependant\u001b[49m\u001b[43m(\u001b[49m\u001b[43mpath\u001b[49m\u001b[43m=\u001b[49m\u001b[38;5;28;43mself\u001b[39;49m\u001b[43m.\u001b[49m\u001b[43mpath_format\u001b[49m\u001b[43m,\u001b[49m\u001b[43m \u001b[49m\u001b[43mcall\u001b[49m\u001b[43m=\u001b[49m\u001b[38;5;28;43mself\u001b[39;49m\u001b[43m.\u001b[49m\u001b[43mendpoint\u001b[49m\u001b[43m)\u001b[49m\n\u001b[32m    555\u001b[39m \u001b[38;5;28;01mfor\u001b[39;00m depends \u001b[38;5;129;01min\u001b[39;00m \u001b[38;5;28mself\u001b[39m.dependencies[::-\u001b[32m1\u001b[39m]:\n\u001b[32m    556\u001b[39m     \u001b[38;5;28mself\u001b[39m.dependant.dependencies.insert(\n\u001b[32m    557\u001b[39m         \u001b[32m0\u001b[39m,\n\u001b[32m    558\u001b[39m         get_parameterless_sub_dependant(depends=depends, path=\u001b[38;5;28mself\u001b[39m.path_format),\n\u001b[32m    559\u001b[39m     )\n",
      "\u001b[36mFile \u001b[39m\u001b[32m~/.cache/pypoetry/virtualenvs/chatbot-k9VqB5fJ-py3.12/lib/python3.12/site-packages/fastapi/dependencies/utils.py:285\u001b[39m, in \u001b[36mget_dependant\u001b[39m\u001b[34m(path, call, name, security_scopes, use_cache)\u001b[39m\n\u001b[32m    283\u001b[39m \u001b[38;5;28;01mfor\u001b[39;00m param_name, param \u001b[38;5;129;01min\u001b[39;00m signature_params.items():\n\u001b[32m    284\u001b[39m     is_path_param = param_name \u001b[38;5;129;01min\u001b[39;00m path_param_names\n\u001b[32m--> \u001b[39m\u001b[32m285\u001b[39m     param_details = \u001b[43manalyze_param\u001b[49m\u001b[43m(\u001b[49m\n\u001b[32m    286\u001b[39m \u001b[43m        \u001b[49m\u001b[43mparam_name\u001b[49m\u001b[43m=\u001b[49m\u001b[43mparam_name\u001b[49m\u001b[43m,\u001b[49m\n\u001b[32m    287\u001b[39m \u001b[43m        \u001b[49m\u001b[43mannotation\u001b[49m\u001b[43m=\u001b[49m\u001b[43mparam\u001b[49m\u001b[43m.\u001b[49m\u001b[43mannotation\u001b[49m\u001b[43m,\u001b[49m\n\u001b[32m    288\u001b[39m \u001b[43m        \u001b[49m\u001b[43mvalue\u001b[49m\u001b[43m=\u001b[49m\u001b[43mparam\u001b[49m\u001b[43m.\u001b[49m\u001b[43mdefault\u001b[49m\u001b[43m,\u001b[49m\n\u001b[32m    289\u001b[39m \u001b[43m        \u001b[49m\u001b[43mis_path_param\u001b[49m\u001b[43m=\u001b[49m\u001b[43mis_path_param\u001b[49m\u001b[43m,\u001b[49m\n\u001b[32m    290\u001b[39m \u001b[43m    \u001b[49m\u001b[43m)\u001b[49m\n\u001b[32m    291\u001b[39m     \u001b[38;5;28;01mif\u001b[39;00m param_details.depends \u001b[38;5;129;01mis\u001b[39;00m \u001b[38;5;129;01mnot\u001b[39;00m \u001b[38;5;28;01mNone\u001b[39;00m:\n\u001b[32m    292\u001b[39m         sub_dependant = get_param_sub_dependant(\n\u001b[32m    293\u001b[39m             param_name=param_name,\n\u001b[32m    294\u001b[39m             depends=param_details.depends,\n\u001b[32m    295\u001b[39m             path=path,\n\u001b[32m    296\u001b[39m             security_scopes=security_scopes,\n\u001b[32m    297\u001b[39m         )\n",
      "\u001b[36mFile \u001b[39m\u001b[32m~/.cache/pypoetry/virtualenvs/chatbot-k9VqB5fJ-py3.12/lib/python3.12/site-packages/fastapi/dependencies/utils.py:488\u001b[39m, in \u001b[36manalyze_param\u001b[39m\u001b[34m(param_name, annotation, value, is_path_param)\u001b[39m\n\u001b[32m    486\u001b[39m     alias = field_info.alias \u001b[38;5;129;01mor\u001b[39;00m param_name\n\u001b[32m    487\u001b[39m field_info.alias = alias\n\u001b[32m--> \u001b[39m\u001b[32m488\u001b[39m field = \u001b[43mcreate_model_field\u001b[49m\u001b[43m(\u001b[49m\n\u001b[32m    489\u001b[39m \u001b[43m    \u001b[49m\u001b[43mname\u001b[49m\u001b[43m=\u001b[49m\u001b[43mparam_name\u001b[49m\u001b[43m,\u001b[49m\n\u001b[32m    490\u001b[39m \u001b[43m    \u001b[49m\u001b[43mtype_\u001b[49m\u001b[43m=\u001b[49m\u001b[43muse_annotation_from_field_info\u001b[49m\u001b[43m,\u001b[49m\n\u001b[32m    491\u001b[39m \u001b[43m    \u001b[49m\u001b[43mdefault\u001b[49m\u001b[43m=\u001b[49m\u001b[43mfield_info\u001b[49m\u001b[43m.\u001b[49m\u001b[43mdefault\u001b[49m\u001b[43m,\u001b[49m\n\u001b[32m    492\u001b[39m \u001b[43m    \u001b[49m\u001b[43malias\u001b[49m\u001b[43m=\u001b[49m\u001b[43malias\u001b[49m\u001b[43m,\u001b[49m\n\u001b[32m    493\u001b[39m \u001b[43m    \u001b[49m\u001b[43mrequired\u001b[49m\u001b[43m=\u001b[49m\u001b[43mfield_info\u001b[49m\u001b[43m.\u001b[49m\u001b[43mdefault\u001b[49m\u001b[43m \u001b[49m\u001b[38;5;129;43;01min\u001b[39;49;00m\u001b[43m \u001b[49m\u001b[43m(\u001b[49m\u001b[43mRequiredParam\u001b[49m\u001b[43m,\u001b[49m\u001b[43m \u001b[49m\u001b[43mUndefined\u001b[49m\u001b[43m)\u001b[49m\u001b[43m,\u001b[49m\n\u001b[32m    494\u001b[39m \u001b[43m    \u001b[49m\u001b[43mfield_info\u001b[49m\u001b[43m=\u001b[49m\u001b[43mfield_info\u001b[49m\u001b[43m,\u001b[49m\n\u001b[32m    495\u001b[39m \u001b[43m\u001b[49m\u001b[43m)\u001b[49m\n\u001b[32m    496\u001b[39m \u001b[38;5;28;01mif\u001b[39;00m is_path_param:\n\u001b[32m    497\u001b[39m     \u001b[38;5;28;01massert\u001b[39;00m is_scalar_field(field=field), (\n\u001b[32m    498\u001b[39m         \u001b[33m\"\u001b[39m\u001b[33mPath params must be of one of the supported types\u001b[39m\u001b[33m\"\u001b[39m\n\u001b[32m    499\u001b[39m     )\n",
      "\u001b[36mFile \u001b[39m\u001b[32m~/.cache/pypoetry/virtualenvs/chatbot-k9VqB5fJ-py3.12/lib/python3.12/site-packages/fastapi/utils.py:98\u001b[39m, in \u001b[36mcreate_model_field\u001b[39m\u001b[34m(name, type_, class_validators, default, required, model_config, field_info, alias, mode)\u001b[39m\n\u001b[32m     96\u001b[39m     \u001b[38;5;28;01mreturn\u001b[39;00m ModelField(**kwargs)  \u001b[38;5;66;03m# type: ignore[arg-type]\u001b[39;00m\n\u001b[32m     97\u001b[39m \u001b[38;5;28;01mexcept\u001b[39;00m (\u001b[38;5;167;01mRuntimeError\u001b[39;00m, PydanticSchemaGenerationError):\n\u001b[32m---> \u001b[39m\u001b[32m98\u001b[39m     \u001b[38;5;28;01mraise\u001b[39;00m fastapi.exceptions.FastAPIError(\n\u001b[32m     99\u001b[39m         \u001b[33m\"\u001b[39m\u001b[33mInvalid args for response field! Hint: \u001b[39m\u001b[33m\"\u001b[39m\n\u001b[32m    100\u001b[39m         \u001b[33mf\u001b[39m\u001b[33m\"\u001b[39m\u001b[33mcheck that \u001b[39m\u001b[38;5;132;01m{\u001b[39;00mtype_\u001b[38;5;132;01m}\u001b[39;00m\u001b[33m is a valid Pydantic field type. \u001b[39m\u001b[33m\"\u001b[39m\n\u001b[32m    101\u001b[39m         \u001b[33m\"\u001b[39m\u001b[33mIf you are using a return type annotation that is not a valid Pydantic \u001b[39m\u001b[33m\"\u001b[39m\n\u001b[32m    102\u001b[39m         \u001b[33m\"\u001b[39m\u001b[33mfield (e.g. Union[Response, dict, None]) you can disable generating the \u001b[39m\u001b[33m\"\u001b[39m\n\u001b[32m    103\u001b[39m         \u001b[33m\"\u001b[39m\u001b[33mresponse model from the type annotation with the path operation decorator \u001b[39m\u001b[33m\"\u001b[39m\n\u001b[32m    104\u001b[39m         \u001b[33m\"\u001b[39m\u001b[33mparameter response_model=None. Read more: \u001b[39m\u001b[33m\"\u001b[39m\n\u001b[32m    105\u001b[39m         \u001b[33m\"\u001b[39m\u001b[33mhttps://fastapi.tiangolo.com/tutorial/response-model/\u001b[39m\u001b[33m\"\u001b[39m\n\u001b[32m    106\u001b[39m     ) \u001b[38;5;28;01mfrom\u001b[39;00m\u001b[38;5;250m \u001b[39m\u001b[38;5;28;01mNone\u001b[39;00m\n",
      "\u001b[31mFastAPIError\u001b[39m: Invalid args for response field! Hint: check that chat_id=2 message='chính sách đổi trả hàng' is a valid Pydantic field type. If you are using a return type annotation that is not a valid Pydantic field (e.g. Union[Response, dict, None]) you can disable generating the response model from the type annotation with the path operation decorator parameter response_model=None. Read more: https://fastapi.tiangolo.com/tutorial/response-model/"
     ]
    }
   ],
   "source": [
    "## endpoint\n",
    "@router.post(\"/chat\")\n",
    "async def chat(request: ChatbotRequest):\n",
    "    try:\n",
    "        # Gọi hàm tìm kiếm sản phẩm\n",
    "        result = await get_product_info(request.message)\n",
    "        response = await call_agent(result[\"agent\"], request)\n",
    "        return response\n",
    "    except Exception as e:\n",
    "        print(\"Error:\", e)\n",
    "        raise HTTPException(status_code=500, detail=\"Internal Server Error\")"
   ]
  }
 ],
 "metadata": {
  "kernelspec": {
   "display_name": "chatbot-k9VqB5fJ-py3.12",
   "language": "python",
   "name": "python3"
  },
  "language_info": {
   "codemirror_mode": {
    "name": "ipython",
    "version": 3
   },
   "file_extension": ".py",
   "mimetype": "text/x-python",
   "name": "python",
   "nbconvert_exporter": "python",
   "pygments_lexer": "ipython3",
   "version": "3.12.3"
  }
 },
 "nbformat": 4,
 "nbformat_minor": 5
}
